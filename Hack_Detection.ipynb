{
  "cells": [
    {
      "cell_type": "markdown",
      "metadata": {
        "id": "view-in-github",
        "colab_type": "text"
      },
      "source": [
        "<a href=\"https://colab.research.google.com/github/ArtytheCoder/Detecting-Hacked-or-Not/blob/main/Hack_Detection.ipynb\" target=\"_parent\"><img src=\"https://colab.research.google.com/assets/colab-badge.svg\" alt=\"Open In Colab\"/></a>"
      ]
    },
    {
      "cell_type": "code",
      "execution_count": null,
      "id": "852fba70",
      "metadata": {
        "id": "852fba70"
      },
      "outputs": [],
      "source": [
        "import pandas as pd\n",
        "import numpy as np"
      ]
    },
    {
      "cell_type": "code",
      "execution_count": null,
      "id": "af55c7fb",
      "metadata": {
        "id": "af55c7fb"
      },
      "outputs": [],
      "source": [
        "hacking=pd.read_csv(\"detector.csv\")"
      ]
    },
    {
      "cell_type": "code",
      "execution_count": null,
      "id": "1ee02290",
      "metadata": {
        "id": "1ee02290",
        "outputId": "9d837d93-227c-4eb1-da9e-2b44357222fe"
      },
      "outputs": [
        {
          "data": {
            "text/html": [
              "<div>\n",
              "<style scoped>\n",
              "    .dataframe tbody tr th:only-of-type {\n",
              "        vertical-align: middle;\n",
              "    }\n",
              "\n",
              "    .dataframe tbody tr th {\n",
              "        vertical-align: top;\n",
              "    }\n",
              "\n",
              "    .dataframe thead th {\n",
              "        text-align: right;\n",
              "    }\n",
              "</style>\n",
              "<table border=\"1\" class=\"dataframe\">\n",
              "  <thead>\n",
              "    <tr style=\"text-align: right;\">\n",
              "      <th></th>\n",
              "      <th>cpu_processing</th>\n",
              "      <th>mem_processing</th>\n",
              "      <th>RESIDUE</th>\n",
              "      <th>TPR</th>\n",
              "      <th>CLASS</th>\n",
              "    </tr>\n",
              "  </thead>\n",
              "  <tbody>\n",
              "    <tr>\n",
              "      <th>0</th>\n",
              "      <td>0.237</td>\n",
              "      <td>0.843</td>\n",
              "      <td>0.606</td>\n",
              "      <td>279</td>\n",
              "      <td>0</td>\n",
              "    </tr>\n",
              "    <tr>\n",
              "      <th>1</th>\n",
              "      <td>0.218</td>\n",
              "      <td>0.844</td>\n",
              "      <td>0.626</td>\n",
              "      <td>279</td>\n",
              "      <td>0</td>\n",
              "    </tr>\n",
              "    <tr>\n",
              "      <th>2</th>\n",
              "      <td>0.724</td>\n",
              "      <td>0.844</td>\n",
              "      <td>0.120</td>\n",
              "      <td>260</td>\n",
              "      <td>1</td>\n",
              "    </tr>\n",
              "    <tr>\n",
              "      <th>3</th>\n",
              "      <td>0.310</td>\n",
              "      <td>0.845</td>\n",
              "      <td>0.535</td>\n",
              "      <td>280</td>\n",
              "      <td>0</td>\n",
              "    </tr>\n",
              "    <tr>\n",
              "      <th>4</th>\n",
              "      <td>0.389</td>\n",
              "      <td>0.862</td>\n",
              "      <td>0.473</td>\n",
              "      <td>280</td>\n",
              "      <td>0</td>\n",
              "    </tr>\n",
              "  </tbody>\n",
              "</table>\n",
              "</div>"
            ],
            "text/plain": [
              "   cpu_processing  mem_processing  RESIDUE              TPR  CLASS\n",
              "0           0.237           0.843    0.606              279      0\n",
              "1           0.218           0.844    0.626              279      0\n",
              "2           0.724           0.844    0.120              260      1\n",
              "3           0.310           0.845    0.535              280      0\n",
              "4           0.389           0.862    0.473              280      0"
            ]
          },
          "execution_count": 3,
          "metadata": {},
          "output_type": "execute_result"
        }
      ],
      "source": [
        "hacking.head()"
      ]
    },
    {
      "cell_type": "code",
      "execution_count": null,
      "id": "ffb36f5e",
      "metadata": {
        "id": "ffb36f5e",
        "outputId": "95ffb8de-7487-4f3a-c8ed-2914f1330a69"
      },
      "outputs": [
        {
          "data": {
            "text/html": [
              "<div>\n",
              "<style scoped>\n",
              "    .dataframe tbody tr th:only-of-type {\n",
              "        vertical-align: middle;\n",
              "    }\n",
              "\n",
              "    .dataframe tbody tr th {\n",
              "        vertical-align: top;\n",
              "    }\n",
              "\n",
              "    .dataframe thead th {\n",
              "        text-align: right;\n",
              "    }\n",
              "</style>\n",
              "<table border=\"1\" class=\"dataframe\">\n",
              "  <thead>\n",
              "    <tr style=\"text-align: right;\">\n",
              "      <th></th>\n",
              "      <th>cpu_processing</th>\n",
              "      <th>mem_processing</th>\n",
              "      <th>RESIDUE</th>\n",
              "      <th>TPR</th>\n",
              "      <th>CLASS</th>\n",
              "    </tr>\n",
              "  </thead>\n",
              "  <tbody>\n",
              "    <tr>\n",
              "      <th>940</th>\n",
              "      <td>0.915</td>\n",
              "      <td>0.832</td>\n",
              "      <td>-0.093</td>\n",
              "      <td>246</td>\n",
              "      <td>1</td>\n",
              "    </tr>\n",
              "    <tr>\n",
              "      <th>941</th>\n",
              "      <td>0.954</td>\n",
              "      <td>0.833</td>\n",
              "      <td>-0.121</td>\n",
              "      <td>254</td>\n",
              "      <td>1</td>\n",
              "    </tr>\n",
              "    <tr>\n",
              "      <th>942</th>\n",
              "      <td>0.885</td>\n",
              "      <td>0.891</td>\n",
              "      <td>0.006</td>\n",
              "      <td>261</td>\n",
              "      <td>1</td>\n",
              "    </tr>\n",
              "    <tr>\n",
              "      <th>943</th>\n",
              "      <td>0.891</td>\n",
              "      <td>0.832</td>\n",
              "      <td>-0.059</td>\n",
              "      <td>243</td>\n",
              "      <td>1</td>\n",
              "    </tr>\n",
              "    <tr>\n",
              "      <th>944</th>\n",
              "      <td>0.897</td>\n",
              "      <td>0.832</td>\n",
              "      <td>-0.065</td>\n",
              "      <td>252</td>\n",
              "      <td>1</td>\n",
              "    </tr>\n",
              "  </tbody>\n",
              "</table>\n",
              "</div>"
            ],
            "text/plain": [
              "     cpu_processing  mem_processing  RESIDUE              TPR  CLASS\n",
              "940           0.915           0.832   -0.093              246      1\n",
              "941           0.954           0.833   -0.121              254      1\n",
              "942           0.885           0.891    0.006              261      1\n",
              "943           0.891           0.832   -0.059              243      1\n",
              "944           0.897           0.832   -0.065              252      1"
            ]
          },
          "execution_count": 4,
          "metadata": {},
          "output_type": "execute_result"
        }
      ],
      "source": [
        "hacking.tail()"
      ]
    },
    {
      "cell_type": "code",
      "execution_count": null,
      "id": "4d6a8587",
      "metadata": {
        "id": "4d6a8587"
      },
      "outputs": [],
      "source": [
        "pd.set_option('display.max_column',None)"
      ]
    },
    {
      "cell_type": "code",
      "execution_count": null,
      "id": "dc712c67",
      "metadata": {
        "id": "dc712c67",
        "outputId": "b9b3fe95-b0ed-4ce8-fc01-684e46a824e4"
      },
      "outputs": [
        {
          "data": {
            "text/plain": [
              "(945, 5)"
            ]
          },
          "execution_count": 6,
          "metadata": {},
          "output_type": "execute_result"
        }
      ],
      "source": [
        "hacking.shape"
      ]
    },
    {
      "cell_type": "code",
      "execution_count": null,
      "id": "e8b93c2f",
      "metadata": {
        "id": "e8b93c2f",
        "outputId": "ff0645e0-1568-416c-e65a-271554588901"
      },
      "outputs": [
        {
          "name": "stdout",
          "output_type": "stream",
          "text": [
            "<class 'pandas.core.frame.DataFrame'>\n",
            "RangeIndex: 945 entries, 0 to 944\n",
            "Data columns (total 5 columns):\n",
            " #   Column           Non-Null Count  Dtype  \n",
            "---  ------           --------------  -----  \n",
            " 0   cpu_processing   945 non-null    float64\n",
            " 1   mem_processing   945 non-null    float64\n",
            " 2   RESIDUE          945 non-null    float64\n",
            " 3               TPR  945 non-null    int64  \n",
            " 4   CLASS            945 non-null    int64  \n",
            "dtypes: float64(3), int64(2)\n",
            "memory usage: 37.0 KB\n"
          ]
        }
      ],
      "source": [
        "hacking.info()"
      ]
    },
    {
      "cell_type": "code",
      "execution_count": null,
      "id": "f46cfd93",
      "metadata": {
        "id": "f46cfd93",
        "outputId": "978873e2-c41f-4f48-9c1f-d4434e400c7d"
      },
      "outputs": [
        {
          "data": {
            "text/html": [
              "<div>\n",
              "<style scoped>\n",
              "    .dataframe tbody tr th:only-of-type {\n",
              "        vertical-align: middle;\n",
              "    }\n",
              "\n",
              "    .dataframe tbody tr th {\n",
              "        vertical-align: top;\n",
              "    }\n",
              "\n",
              "    .dataframe thead th {\n",
              "        text-align: right;\n",
              "    }\n",
              "</style>\n",
              "<table border=\"1\" class=\"dataframe\">\n",
              "  <thead>\n",
              "    <tr style=\"text-align: right;\">\n",
              "      <th></th>\n",
              "      <th>cpu_processing</th>\n",
              "      <th>mem_processing</th>\n",
              "      <th>RESIDUE</th>\n",
              "      <th>TPR</th>\n",
              "      <th>CLASS</th>\n",
              "    </tr>\n",
              "  </thead>\n",
              "  <tbody>\n",
              "    <tr>\n",
              "      <th>0</th>\n",
              "      <td>False</td>\n",
              "      <td>False</td>\n",
              "      <td>False</td>\n",
              "      <td>False</td>\n",
              "      <td>False</td>\n",
              "    </tr>\n",
              "    <tr>\n",
              "      <th>1</th>\n",
              "      <td>False</td>\n",
              "      <td>False</td>\n",
              "      <td>False</td>\n",
              "      <td>False</td>\n",
              "      <td>False</td>\n",
              "    </tr>\n",
              "    <tr>\n",
              "      <th>2</th>\n",
              "      <td>False</td>\n",
              "      <td>False</td>\n",
              "      <td>False</td>\n",
              "      <td>False</td>\n",
              "      <td>False</td>\n",
              "    </tr>\n",
              "    <tr>\n",
              "      <th>3</th>\n",
              "      <td>False</td>\n",
              "      <td>False</td>\n",
              "      <td>False</td>\n",
              "      <td>False</td>\n",
              "      <td>False</td>\n",
              "    </tr>\n",
              "    <tr>\n",
              "      <th>4</th>\n",
              "      <td>False</td>\n",
              "      <td>False</td>\n",
              "      <td>False</td>\n",
              "      <td>False</td>\n",
              "      <td>False</td>\n",
              "    </tr>\n",
              "    <tr>\n",
              "      <th>...</th>\n",
              "      <td>...</td>\n",
              "      <td>...</td>\n",
              "      <td>...</td>\n",
              "      <td>...</td>\n",
              "      <td>...</td>\n",
              "    </tr>\n",
              "    <tr>\n",
              "      <th>940</th>\n",
              "      <td>False</td>\n",
              "      <td>False</td>\n",
              "      <td>False</td>\n",
              "      <td>False</td>\n",
              "      <td>False</td>\n",
              "    </tr>\n",
              "    <tr>\n",
              "      <th>941</th>\n",
              "      <td>False</td>\n",
              "      <td>False</td>\n",
              "      <td>False</td>\n",
              "      <td>False</td>\n",
              "      <td>False</td>\n",
              "    </tr>\n",
              "    <tr>\n",
              "      <th>942</th>\n",
              "      <td>False</td>\n",
              "      <td>False</td>\n",
              "      <td>False</td>\n",
              "      <td>False</td>\n",
              "      <td>False</td>\n",
              "    </tr>\n",
              "    <tr>\n",
              "      <th>943</th>\n",
              "      <td>False</td>\n",
              "      <td>False</td>\n",
              "      <td>False</td>\n",
              "      <td>False</td>\n",
              "      <td>False</td>\n",
              "    </tr>\n",
              "    <tr>\n",
              "      <th>944</th>\n",
              "      <td>False</td>\n",
              "      <td>False</td>\n",
              "      <td>False</td>\n",
              "      <td>False</td>\n",
              "      <td>False</td>\n",
              "    </tr>\n",
              "  </tbody>\n",
              "</table>\n",
              "<p>945 rows × 5 columns</p>\n",
              "</div>"
            ],
            "text/plain": [
              "     cpu_processing  mem_processing  RESIDUE              TPR  CLASS\n",
              "0             False           False    False            False  False\n",
              "1             False           False    False            False  False\n",
              "2             False           False    False            False  False\n",
              "3             False           False    False            False  False\n",
              "4             False           False    False            False  False\n",
              "..              ...             ...      ...              ...    ...\n",
              "940           False           False    False            False  False\n",
              "941           False           False    False            False  False\n",
              "942           False           False    False            False  False\n",
              "943           False           False    False            False  False\n",
              "944           False           False    False            False  False\n",
              "\n",
              "[945 rows x 5 columns]"
            ]
          },
          "execution_count": 8,
          "metadata": {},
          "output_type": "execute_result"
        }
      ],
      "source": [
        "hacking.isnull()"
      ]
    },
    {
      "cell_type": "code",
      "execution_count": null,
      "id": "1346646c",
      "metadata": {
        "id": "1346646c",
        "outputId": "af8c92c5-db32-482d-98fb-293f4183b971"
      },
      "outputs": [
        {
          "data": {
            "text/plain": [
              "cpu_processing     0\n",
              "mem_processing     0\n",
              "RESIDUE            0\n",
              "            TPR    0\n",
              "CLASS              0\n",
              "dtype: int64"
            ]
          },
          "execution_count": 9,
          "metadata": {},
          "output_type": "execute_result"
        }
      ],
      "source": [
        "hacking.isnull().sum()"
      ]
    },
    {
      "cell_type": "code",
      "execution_count": null,
      "id": "2ab864e4",
      "metadata": {
        "id": "2ab864e4"
      },
      "outputs": [],
      "source": [
        "X=hacking.drop('CLASS',axis=1)\n",
        "y=hacking['CLASS']"
      ]
    },
    {
      "cell_type": "code",
      "execution_count": null,
      "id": "cee41649",
      "metadata": {
        "id": "cee41649",
        "outputId": "2ef454a5-90ce-42c9-9448-c0af23ac61e3"
      },
      "outputs": [
        {
          "data": {
            "text/plain": [
              "0      0\n",
              "1      0\n",
              "2      1\n",
              "3      0\n",
              "4      0\n",
              "      ..\n",
              "940    1\n",
              "941    1\n",
              "942    1\n",
              "943    1\n",
              "944    1\n",
              "Name: CLASS, Length: 945, dtype: int64"
            ]
          },
          "execution_count": 11,
          "metadata": {},
          "output_type": "execute_result"
        }
      ],
      "source": [
        "y\n"
      ]
    },
    {
      "cell_type": "code",
      "execution_count": null,
      "id": "bd526484",
      "metadata": {
        "id": "bd526484",
        "outputId": "73650933-b34d-4250-f6b1-e3db9f909af7"
      },
      "outputs": [
        {
          "data": {
            "text/html": [
              "<div>\n",
              "<style scoped>\n",
              "    .dataframe tbody tr th:only-of-type {\n",
              "        vertical-align: middle;\n",
              "    }\n",
              "\n",
              "    .dataframe tbody tr th {\n",
              "        vertical-align: top;\n",
              "    }\n",
              "\n",
              "    .dataframe thead th {\n",
              "        text-align: right;\n",
              "    }\n",
              "</style>\n",
              "<table border=\"1\" class=\"dataframe\">\n",
              "  <thead>\n",
              "    <tr style=\"text-align: right;\">\n",
              "      <th></th>\n",
              "      <th>cpu_processing</th>\n",
              "      <th>mem_processing</th>\n",
              "      <th>RESIDUE</th>\n",
              "      <th>TPR</th>\n",
              "    </tr>\n",
              "  </thead>\n",
              "  <tbody>\n",
              "    <tr>\n",
              "      <th>0</th>\n",
              "      <td>0.237</td>\n",
              "      <td>0.843</td>\n",
              "      <td>0.606</td>\n",
              "      <td>279</td>\n",
              "    </tr>\n",
              "    <tr>\n",
              "      <th>1</th>\n",
              "      <td>0.218</td>\n",
              "      <td>0.844</td>\n",
              "      <td>0.626</td>\n",
              "      <td>279</td>\n",
              "    </tr>\n",
              "    <tr>\n",
              "      <th>2</th>\n",
              "      <td>0.724</td>\n",
              "      <td>0.844</td>\n",
              "      <td>0.120</td>\n",
              "      <td>260</td>\n",
              "    </tr>\n",
              "    <tr>\n",
              "      <th>3</th>\n",
              "      <td>0.310</td>\n",
              "      <td>0.845</td>\n",
              "      <td>0.535</td>\n",
              "      <td>280</td>\n",
              "    </tr>\n",
              "    <tr>\n",
              "      <th>4</th>\n",
              "      <td>0.389</td>\n",
              "      <td>0.862</td>\n",
              "      <td>0.473</td>\n",
              "      <td>280</td>\n",
              "    </tr>\n",
              "    <tr>\n",
              "      <th>...</th>\n",
              "      <td>...</td>\n",
              "      <td>...</td>\n",
              "      <td>...</td>\n",
              "      <td>...</td>\n",
              "    </tr>\n",
              "    <tr>\n",
              "      <th>940</th>\n",
              "      <td>0.915</td>\n",
              "      <td>0.832</td>\n",
              "      <td>-0.093</td>\n",
              "      <td>246</td>\n",
              "    </tr>\n",
              "    <tr>\n",
              "      <th>941</th>\n",
              "      <td>0.954</td>\n",
              "      <td>0.833</td>\n",
              "      <td>-0.121</td>\n",
              "      <td>254</td>\n",
              "    </tr>\n",
              "    <tr>\n",
              "      <th>942</th>\n",
              "      <td>0.885</td>\n",
              "      <td>0.891</td>\n",
              "      <td>0.006</td>\n",
              "      <td>261</td>\n",
              "    </tr>\n",
              "    <tr>\n",
              "      <th>943</th>\n",
              "      <td>0.891</td>\n",
              "      <td>0.832</td>\n",
              "      <td>-0.059</td>\n",
              "      <td>243</td>\n",
              "    </tr>\n",
              "    <tr>\n",
              "      <th>944</th>\n",
              "      <td>0.897</td>\n",
              "      <td>0.832</td>\n",
              "      <td>-0.065</td>\n",
              "      <td>252</td>\n",
              "    </tr>\n",
              "  </tbody>\n",
              "</table>\n",
              "<p>945 rows × 4 columns</p>\n",
              "</div>"
            ],
            "text/plain": [
              "     cpu_processing  mem_processing  RESIDUE              TPR\n",
              "0             0.237           0.843    0.606              279\n",
              "1             0.218           0.844    0.626              279\n",
              "2             0.724           0.844    0.120              260\n",
              "3             0.310           0.845    0.535              280\n",
              "4             0.389           0.862    0.473              280\n",
              "..              ...             ...      ...              ...\n",
              "940           0.915           0.832   -0.093              246\n",
              "941           0.954           0.833   -0.121              254\n",
              "942           0.885           0.891    0.006              261\n",
              "943           0.891           0.832   -0.059              243\n",
              "944           0.897           0.832   -0.065              252\n",
              "\n",
              "[945 rows x 4 columns]"
            ]
          },
          "execution_count": 12,
          "metadata": {},
          "output_type": "execute_result"
        }
      ],
      "source": [
        "X"
      ]
    },
    {
      "cell_type": "code",
      "execution_count": null,
      "id": "a1241006",
      "metadata": {
        "id": "a1241006"
      },
      "outputs": [],
      "source": [
        "from sklearn.decomposition import PCA\n",
        "pca1=PCA(n_components=4)\n",
        "pca_fit=pca1.fit_transform(X)"
      ]
    },
    {
      "cell_type": "code",
      "execution_count": null,
      "id": "b89b80f6",
      "metadata": {
        "id": "b89b80f6",
        "outputId": "c6d658b6-2192-462a-e94c-be62134dfb1e"
      },
      "outputs": [
        {
          "data": {
            "text/plain": [
              "array([9.99189727e-01, 7.90491911e-04, 1.97668141e-05, 1.39868455e-08])"
            ]
          },
          "execution_count": 14,
          "metadata": {},
          "output_type": "execute_result"
        }
      ],
      "source": [
        "pca1.explained_variance_ratio_"
      ]
    },
    {
      "cell_type": "code",
      "execution_count": null,
      "id": "9e6c75f3",
      "metadata": {
        "id": "9e6c75f3",
        "outputId": "09b827e8-65f2-4615-b6bc-c36bde5a4849"
      },
      "outputs": [
        {
          "data": {
            "text/plain": [
              "1.0"
            ]
          },
          "execution_count": 15,
          "metadata": {},
          "output_type": "execute_result"
        }
      ],
      "source": [
        "sum(pca1.explained_variance_ratio_)"
      ]
    },
    {
      "cell_type": "code",
      "execution_count": null,
      "id": "f17efc90",
      "metadata": {
        "id": "f17efc90"
      },
      "outputs": [],
      "source": [
        "from sklearn.model_selection import train_test_split\n",
        "X_train,X_test,y_train,y_test=train_test_split(pca_fit,y,test_size=0.20,random_state=45)"
      ]
    },
    {
      "cell_type": "code",
      "execution_count": null,
      "id": "c35dd113",
      "metadata": {
        "id": "c35dd113"
      },
      "outputs": [],
      "source": [
        "from sklearn.model_selection import StratifiedShuffleSplit\n",
        "split =  StratifiedShuffleSplit(n_splits=1, test_size=0.2,random_state=42)\n",
        "for train_index,test_index in split.split(hacking,hacking[\"CLASS\"]):\n",
        "    strat_train_set=hacking.loc[train_index]\n",
        "    strat_test_set=hacking.loc[test_index]"
      ]
    },
    {
      "cell_type": "code",
      "execution_count": null,
      "id": "f6dad47c",
      "metadata": {
        "id": "f6dad47c"
      },
      "outputs": [],
      "source": [
        "from sklearn.linear_model import LogisticRegression\n",
        "from sklearn.svm import SVC\n",
        "from sklearn.tree import DecisionTreeClassifier\n",
        "from sklearn.ensemble import RandomForestClassifier"
      ]
    },
    {
      "cell_type": "code",
      "execution_count": null,
      "id": "e4d7ad86",
      "metadata": {
        "id": "e4d7ad86",
        "outputId": "e76199d7-d384-4b8c-8ceb-b860ced6d389"
      },
      "outputs": [
        {
          "data": {
            "text/html": [
              "<style>#sk-container-id-1 {color: black;background-color: white;}#sk-container-id-1 pre{padding: 0;}#sk-container-id-1 div.sk-toggleable {background-color: white;}#sk-container-id-1 label.sk-toggleable__label {cursor: pointer;display: block;width: 100%;margin-bottom: 0;padding: 0.3em;box-sizing: border-box;text-align: center;}#sk-container-id-1 label.sk-toggleable__label-arrow:before {content: \"▸\";float: left;margin-right: 0.25em;color: #696969;}#sk-container-id-1 label.sk-toggleable__label-arrow:hover:before {color: black;}#sk-container-id-1 div.sk-estimator:hover label.sk-toggleable__label-arrow:before {color: black;}#sk-container-id-1 div.sk-toggleable__content {max-height: 0;max-width: 0;overflow: hidden;text-align: left;background-color: #f0f8ff;}#sk-container-id-1 div.sk-toggleable__content pre {margin: 0.2em;color: black;border-radius: 0.25em;background-color: #f0f8ff;}#sk-container-id-1 input.sk-toggleable__control:checked~div.sk-toggleable__content {max-height: 200px;max-width: 100%;overflow: auto;}#sk-container-id-1 input.sk-toggleable__control:checked~label.sk-toggleable__label-arrow:before {content: \"▾\";}#sk-container-id-1 div.sk-estimator input.sk-toggleable__control:checked~label.sk-toggleable__label {background-color: #d4ebff;}#sk-container-id-1 div.sk-label input.sk-toggleable__control:checked~label.sk-toggleable__label {background-color: #d4ebff;}#sk-container-id-1 input.sk-hidden--visually {border: 0;clip: rect(1px 1px 1px 1px);clip: rect(1px, 1px, 1px, 1px);height: 1px;margin: -1px;overflow: hidden;padding: 0;position: absolute;width: 1px;}#sk-container-id-1 div.sk-estimator {font-family: monospace;background-color: #f0f8ff;border: 1px dotted black;border-radius: 0.25em;box-sizing: border-box;margin-bottom: 0.5em;}#sk-container-id-1 div.sk-estimator:hover {background-color: #d4ebff;}#sk-container-id-1 div.sk-parallel-item::after {content: \"\";width: 100%;border-bottom: 1px solid gray;flex-grow: 1;}#sk-container-id-1 div.sk-label:hover label.sk-toggleable__label {background-color: #d4ebff;}#sk-container-id-1 div.sk-serial::before {content: \"\";position: absolute;border-left: 1px solid gray;box-sizing: border-box;top: 0;bottom: 0;left: 50%;z-index: 0;}#sk-container-id-1 div.sk-serial {display: flex;flex-direction: column;align-items: center;background-color: white;padding-right: 0.2em;padding-left: 0.2em;position: relative;}#sk-container-id-1 div.sk-item {position: relative;z-index: 1;}#sk-container-id-1 div.sk-parallel {display: flex;align-items: stretch;justify-content: center;background-color: white;position: relative;}#sk-container-id-1 div.sk-item::before, #sk-container-id-1 div.sk-parallel-item::before {content: \"\";position: absolute;border-left: 1px solid gray;box-sizing: border-box;top: 0;bottom: 0;left: 50%;z-index: -1;}#sk-container-id-1 div.sk-parallel-item {display: flex;flex-direction: column;z-index: 1;position: relative;background-color: white;}#sk-container-id-1 div.sk-parallel-item:first-child::after {align-self: flex-end;width: 50%;}#sk-container-id-1 div.sk-parallel-item:last-child::after {align-self: flex-start;width: 50%;}#sk-container-id-1 div.sk-parallel-item:only-child::after {width: 0;}#sk-container-id-1 div.sk-dashed-wrapped {border: 1px dashed gray;margin: 0 0.4em 0.5em 0.4em;box-sizing: border-box;padding-bottom: 0.4em;background-color: white;}#sk-container-id-1 div.sk-label label {font-family: monospace;font-weight: bold;display: inline-block;line-height: 1.2em;}#sk-container-id-1 div.sk-label-container {text-align: center;}#sk-container-id-1 div.sk-container {/* jupyter's `normalize.less` sets `[hidden] { display: none; }` but bootstrap.min.css set `[hidden] { display: none !important; }` so we also need the `!important` here to be able to override the default hidden behavior on the sphinx rendered scikit-learn.org. See: https://github.com/scikit-learn/scikit-learn/issues/21755 */display: inline-block !important;position: relative;}#sk-container-id-1 div.sk-text-repr-fallback {display: none;}</style><div id=\"sk-container-id-1\" class=\"sk-top-container\"><div class=\"sk-text-repr-fallback\"><pre>RandomForestClassifier()</pre><b>In a Jupyter environment, please rerun this cell to show the HTML representation or trust the notebook. <br />On GitHub, the HTML representation is unable to render, please try loading this page with nbviewer.org.</b></div><div class=\"sk-container\" hidden><div class=\"sk-item\"><div class=\"sk-estimator sk-toggleable\"><input class=\"sk-toggleable__control sk-hidden--visually\" id=\"sk-estimator-id-1\" type=\"checkbox\" checked><label for=\"sk-estimator-id-1\" class=\"sk-toggleable__label sk-toggleable__label-arrow\">RandomForestClassifier</label><div class=\"sk-toggleable__content\"><pre>RandomForestClassifier()</pre></div></div></div></div></div>"
            ],
            "text/plain": [
              "RandomForestClassifier()"
            ]
          },
          "execution_count": 19,
          "metadata": {},
          "output_type": "execute_result"
        }
      ],
      "source": [
        "lr = LogisticRegression()\n",
        "lr.fit(X_train,y_train)\n",
        "\n",
        "svc=SVC()\n",
        "svc.fit(X_train,y_train)\n",
        "\n",
        "dtc=DecisionTreeClassifier()\n",
        "dtc.fit(X_train,y_train)\n",
        "\n",
        "rf=RandomForestClassifier()\n",
        "rf.fit(X_train,y_train)\n"
      ]
    },
    {
      "cell_type": "code",
      "execution_count": null,
      "id": "806d024d",
      "metadata": {
        "id": "806d024d"
      },
      "outputs": [],
      "source": [
        "y_pred1=lr.predict(X_test)\n",
        "y_pred2=svc.predict(X_test)\n",
        "y_pred3=dtc.predict(X_test)\n",
        "y_pred4=rf.predict(X_test)"
      ]
    },
    {
      "cell_type": "code",
      "execution_count": null,
      "id": "f235b8ee",
      "metadata": {
        "id": "f235b8ee"
      },
      "outputs": [],
      "source": [
        "from sklearn.metrics import accuracy_score"
      ]
    },
    {
      "cell_type": "code",
      "execution_count": null,
      "id": "96d82185",
      "metadata": {
        "id": "96d82185",
        "outputId": "9b5d166f-fbd1-4de1-915f-2d8f52a27f65"
      },
      "outputs": [
        {
          "name": "stdout",
          "output_type": "stream",
          "text": [
            "ACC LR 0.9947089947089947\n",
            "ACC SVC 0.9682539682539683\n",
            "ACC DTC 0.9841269841269841\n",
            "ACC RF 0.9947089947089947\n"
          ]
        }
      ],
      "source": [
        "print(\"ACC LR\",accuracy_score(y_test,y_pred1))\n",
        "print(\"ACC SVC\",accuracy_score(y_test,y_pred2))\n",
        "print(\"ACC DTC\",accuracy_score(y_test,y_pred3))\n",
        "print(\"ACC RF\",accuracy_score(y_test,y_pred4))"
      ]
    },
    {
      "cell_type": "code",
      "execution_count": null,
      "id": "d28acc49",
      "metadata": {
        "id": "d28acc49",
        "outputId": "d979edbb-4788-43ce-9d27-61855eeedb1b"
      },
      "outputs": [
        {
          "data": {
            "text/html": [
              "<div>\n",
              "<style scoped>\n",
              "    .dataframe tbody tr th:only-of-type {\n",
              "        vertical-align: middle;\n",
              "    }\n",
              "\n",
              "    .dataframe tbody tr th {\n",
              "        vertical-align: top;\n",
              "    }\n",
              "\n",
              "    .dataframe thead th {\n",
              "        text-align: right;\n",
              "    }\n",
              "</style>\n",
              "<table border=\"1\" class=\"dataframe\">\n",
              "  <thead>\n",
              "    <tr style=\"text-align: right;\">\n",
              "      <th></th>\n",
              "      <th>Models</th>\n",
              "      <th>ACC</th>\n",
              "    </tr>\n",
              "  </thead>\n",
              "  <tbody>\n",
              "    <tr>\n",
              "      <th>0</th>\n",
              "      <td>LR</td>\n",
              "      <td>99.470899</td>\n",
              "    </tr>\n",
              "    <tr>\n",
              "      <th>1</th>\n",
              "      <td>SVC</td>\n",
              "      <td>96.825397</td>\n",
              "    </tr>\n",
              "    <tr>\n",
              "      <th>2</th>\n",
              "      <td>DTC</td>\n",
              "      <td>98.412698</td>\n",
              "    </tr>\n",
              "    <tr>\n",
              "      <th>3</th>\n",
              "      <td>RF</td>\n",
              "      <td>99.470899</td>\n",
              "    </tr>\n",
              "  </tbody>\n",
              "</table>\n",
              "</div>"
            ],
            "text/plain": [
              "  Models        ACC\n",
              "0     LR  99.470899\n",
              "1    SVC  96.825397\n",
              "2    DTC  98.412698\n",
              "3     RF  99.470899"
            ]
          },
          "execution_count": 23,
          "metadata": {},
          "output_type": "execute_result"
        }
      ],
      "source": [
        "pd.DataFrame({'Models':['LR','SVC','DTC','RF'],\n",
        "              'ACC':[accuracy_score(y_test,y_pred1)*100,\n",
        "                    accuracy_score(y_test,y_pred2)*100,\n",
        "                    accuracy_score(y_test,y_pred3)*100,\n",
        "                    accuracy_score(y_test,y_pred4)*100,]})"
      ]
    },
    {
      "cell_type": "code",
      "execution_count": null,
      "id": "216fa3fb",
      "metadata": {
        "id": "216fa3fb",
        "outputId": "2f65da1b-da44-44ec-bdc4-69dcda006fcc"
      },
      "outputs": [
        {
          "data": {
            "text/html": [
              "<style>#sk-container-id-2 {color: black;background-color: white;}#sk-container-id-2 pre{padding: 0;}#sk-container-id-2 div.sk-toggleable {background-color: white;}#sk-container-id-2 label.sk-toggleable__label {cursor: pointer;display: block;width: 100%;margin-bottom: 0;padding: 0.3em;box-sizing: border-box;text-align: center;}#sk-container-id-2 label.sk-toggleable__label-arrow:before {content: \"▸\";float: left;margin-right: 0.25em;color: #696969;}#sk-container-id-2 label.sk-toggleable__label-arrow:hover:before {color: black;}#sk-container-id-2 div.sk-estimator:hover label.sk-toggleable__label-arrow:before {color: black;}#sk-container-id-2 div.sk-toggleable__content {max-height: 0;max-width: 0;overflow: hidden;text-align: left;background-color: #f0f8ff;}#sk-container-id-2 div.sk-toggleable__content pre {margin: 0.2em;color: black;border-radius: 0.25em;background-color: #f0f8ff;}#sk-container-id-2 input.sk-toggleable__control:checked~div.sk-toggleable__content {max-height: 200px;max-width: 100%;overflow: auto;}#sk-container-id-2 input.sk-toggleable__control:checked~label.sk-toggleable__label-arrow:before {content: \"▾\";}#sk-container-id-2 div.sk-estimator input.sk-toggleable__control:checked~label.sk-toggleable__label {background-color: #d4ebff;}#sk-container-id-2 div.sk-label input.sk-toggleable__control:checked~label.sk-toggleable__label {background-color: #d4ebff;}#sk-container-id-2 input.sk-hidden--visually {border: 0;clip: rect(1px 1px 1px 1px);clip: rect(1px, 1px, 1px, 1px);height: 1px;margin: -1px;overflow: hidden;padding: 0;position: absolute;width: 1px;}#sk-container-id-2 div.sk-estimator {font-family: monospace;background-color: #f0f8ff;border: 1px dotted black;border-radius: 0.25em;box-sizing: border-box;margin-bottom: 0.5em;}#sk-container-id-2 div.sk-estimator:hover {background-color: #d4ebff;}#sk-container-id-2 div.sk-parallel-item::after {content: \"\";width: 100%;border-bottom: 1px solid gray;flex-grow: 1;}#sk-container-id-2 div.sk-label:hover label.sk-toggleable__label {background-color: #d4ebff;}#sk-container-id-2 div.sk-serial::before {content: \"\";position: absolute;border-left: 1px solid gray;box-sizing: border-box;top: 0;bottom: 0;left: 50%;z-index: 0;}#sk-container-id-2 div.sk-serial {display: flex;flex-direction: column;align-items: center;background-color: white;padding-right: 0.2em;padding-left: 0.2em;position: relative;}#sk-container-id-2 div.sk-item {position: relative;z-index: 1;}#sk-container-id-2 div.sk-parallel {display: flex;align-items: stretch;justify-content: center;background-color: white;position: relative;}#sk-container-id-2 div.sk-item::before, #sk-container-id-2 div.sk-parallel-item::before {content: \"\";position: absolute;border-left: 1px solid gray;box-sizing: border-box;top: 0;bottom: 0;left: 50%;z-index: -1;}#sk-container-id-2 div.sk-parallel-item {display: flex;flex-direction: column;z-index: 1;position: relative;background-color: white;}#sk-container-id-2 div.sk-parallel-item:first-child::after {align-self: flex-end;width: 50%;}#sk-container-id-2 div.sk-parallel-item:last-child::after {align-self: flex-start;width: 50%;}#sk-container-id-2 div.sk-parallel-item:only-child::after {width: 0;}#sk-container-id-2 div.sk-dashed-wrapped {border: 1px dashed gray;margin: 0 0.4em 0.5em 0.4em;box-sizing: border-box;padding-bottom: 0.4em;background-color: white;}#sk-container-id-2 div.sk-label label {font-family: monospace;font-weight: bold;display: inline-block;line-height: 1.2em;}#sk-container-id-2 div.sk-label-container {text-align: center;}#sk-container-id-2 div.sk-container {/* jupyter's `normalize.less` sets `[hidden] { display: none; }` but bootstrap.min.css set `[hidden] { display: none !important; }` so we also need the `!important` here to be able to override the default hidden behavior on the sphinx rendered scikit-learn.org. See: https://github.com/scikit-learn/scikit-learn/issues/21755 */display: inline-block !important;position: relative;}#sk-container-id-2 div.sk-text-repr-fallback {display: none;}</style><div id=\"sk-container-id-2\" class=\"sk-top-container\"><div class=\"sk-text-repr-fallback\"><pre>RandomForestClassifier()</pre><b>In a Jupyter environment, please rerun this cell to show the HTML representation or trust the notebook. <br />On GitHub, the HTML representation is unable to render, please try loading this page with nbviewer.org.</b></div><div class=\"sk-container\" hidden><div class=\"sk-item\"><div class=\"sk-estimator sk-toggleable\"><input class=\"sk-toggleable__control sk-hidden--visually\" id=\"sk-estimator-id-2\" type=\"checkbox\" checked><label for=\"sk-estimator-id-2\" class=\"sk-toggleable__label sk-toggleable__label-arrow\">RandomForestClassifier</label><div class=\"sk-toggleable__content\"><pre>RandomForestClassifier()</pre></div></div></div></div></div>"
            ],
            "text/plain": [
              "RandomForestClassifier()"
            ]
          },
          "execution_count": 24,
          "metadata": {},
          "output_type": "execute_result"
        }
      ],
      "source": [
        "rf_model=RandomForestClassifier()\n",
        "rf_model.fit(pca_fit,y)"
      ]
    }
  ],
  "metadata": {
    "kernelspec": {
      "display_name": "Python 3 (ipykernel)",
      "language": "python",
      "name": "python3"
    },
    "language_info": {
      "codemirror_mode": {
        "name": "ipython",
        "version": 3
      },
      "file_extension": ".py",
      "mimetype": "text/x-python",
      "name": "python",
      "nbconvert_exporter": "python",
      "pygments_lexer": "ipython3",
      "version": "3.9.7"
    },
    "colab": {
      "provenance": [],
      "include_colab_link": true
    }
  },
  "nbformat": 4,
  "nbformat_minor": 5
}