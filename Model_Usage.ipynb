{
  "cells": [
    {
      "cell_type": "markdown",
      "metadata": {
        "id": "view-in-github",
        "colab_type": "text"
      },
      "source": [
        "<a href=\"https://colab.research.google.com/github/ArtytheCoder/Detecting-Hacked-or-Not/blob/main/Model_Usage.ipynb\" target=\"_parent\"><img src=\"https://colab.research.google.com/assets/colab-badge.svg\" alt=\"Open In Colab\"/></a>"
      ]
    },
    {
      "cell_type": "code",
      "execution_count": null,
      "id": "e1d18953",
      "metadata": {
        "id": "e1d18953"
      },
      "outputs": [],
      "source": [
        "import joblib\n",
        "import numpy as np\n",
        "import pandas as pd"
      ]
    },
    {
      "cell_type": "code",
      "execution_count": null,
      "id": "74b2bec2",
      "metadata": {
        "id": "74b2bec2"
      },
      "outputs": [],
      "source": [
        "hacking=pd.read_csv(\"detector.csv\")\n",
        "model=joblib.load('Hack_Detection')"
      ]
    },
    {
      "cell_type": "code",
      "execution_count": null,
      "id": "9dd71b91",
      "metadata": {
        "id": "9dd71b91"
      },
      "outputs": [],
      "source": [
        "X=hacking.drop('CLASS',axis=1)\n",
        "from sklearn.decomposition import PCA\n",
        "pca1=PCA(n_components=4)\n",
        "pca_fit=pca1.fit_transform(X)"
      ]
    },
    {
      "cell_type": "code",
      "execution_count": null,
      "id": "a8d460ff",
      "metadata": {
        "id": "a8d460ff"
      },
      "outputs": [],
      "source": [
        "import time\n",
        "import psutil\n",
        "import datetime,openpyxl\n",
        "import math"
      ]
    },
    {
      "cell_type": "code",
      "execution_count": null,
      "id": "3dcdddbe",
      "metadata": {
        "id": "3dcdddbe",
        "outputId": "77d8ec8e-21b5-40bf-d177-e17f45cdad88"
      },
      "outputs": [
        {
          "name": "stdout",
          "output_type": "stream",
          "text": [
            "0.185\n",
            "0.67\n",
            "0.485\n",
            "\n",
            " 219\n"
          ]
        }
      ],
      "source": [
        "a=(psutil.cpu_percent())/100\n",
        "print(\"%.3f\" % a)\n",
        "b=(psutil.virtual_memory().percent)/100\n",
        "print(b)\n",
        "c=np.subtract(b,a)\n",
        "print(\"%.3f\" %c)\n",
        "d=0\n",
        "for process in psutil.process_iter ():\n",
        "    d=d+1\n",
        "print(\"\\n\",d)\n"
      ]
    },
    {
      "cell_type": "code",
      "execution_count": null,
      "id": "c6ad0e92",
      "metadata": {
        "id": "c6ad0e92",
        "outputId": "15d23db9-5730-4478-9964-86335bb59ca5"
      },
      "outputs": [
        {
          "name": "stdout",
          "output_type": "stream",
          "text": [
            "[['0.185', '0.670', '0.485', 219]]\n"
          ]
        },
        {
          "name": "stderr",
          "output_type": "stream",
          "text": [
            "C:\\Users\\Ikjot Kaur\\AppData\\Local\\Programs\\Python\\Python39\\lib\\site-packages\\sklearn\\base.py:450: UserWarning: X does not have valid feature names, but PCA was fitted with feature names\n",
            "  warnings.warn(\n"
          ]
        }
      ],
      "source": [
        "#features=([[0.628,0.844,0.216,245]])\n",
        "features = ([[\"%.3f\" % a,\"%.3f\" %b,\"%.3f\" %c,d]])\n",
        "print(features)\n",
        "p=model.predict(pca1.transform(features))"
      ]
    },
    {
      "cell_type": "code",
      "execution_count": null,
      "id": "137d3f0f",
      "metadata": {
        "id": "137d3f0f",
        "outputId": "93d30ebf-dd9d-47e5-f684-543029513318"
      },
      "outputs": [
        {
          "name": "stdout",
          "output_type": "stream",
          "text": [
            "not hacked\n"
          ]
        }
      ],
      "source": [
        "if p[0]==1:\n",
        "    print('hacked')\n",
        "else:\n",
        "    print('not hacked')"
      ]
    }
  ],
  "metadata": {
    "kernelspec": {
      "display_name": "Python 3 (ipykernel)",
      "language": "python",
      "name": "python3"
    },
    "language_info": {
      "codemirror_mode": {
        "name": "ipython",
        "version": 3
      },
      "file_extension": ".py",
      "mimetype": "text/x-python",
      "name": "python",
      "nbconvert_exporter": "python",
      "pygments_lexer": "ipython3",
      "version": "3.9.7"
    },
    "colab": {
      "provenance": [],
      "toc_visible": true,
      "include_colab_link": true
    }
  },
  "nbformat": 4,
  "nbformat_minor": 5
}